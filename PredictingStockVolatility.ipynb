{
  "nbformat": 4,
  "nbformat_minor": 0,
  "metadata": {
    "colab": {
      "provenance": [],
      "authorship_tag": "ABX9TyNna58lkvukbdDd8y4MRm/p",
      "include_colab_link": true
    },
    "kernelspec": {
      "name": "python3",
      "display_name": "Python 3"
    },
    "language_info": {
      "name": "python"
    }
  },
  "cells": [
    {
      "cell_type": "markdown",
      "metadata": {
        "id": "view-in-github",
        "colab_type": "text"
      },
      "source": [
        "<a href=\"https://colab.research.google.com/github/JonDee2023/PredictingStockVolatility/blob/main/PredictingStockVolatility.ipynb\" target=\"_parent\"><img src=\"https://colab.research.google.com/assets/colab-badge.svg\" alt=\"Open In Colab\"/></a>"
      ]
    },
    {
      "cell_type": "code",
      "execution_count": 2,
      "metadata": {
        "colab": {
          "base_uri": "https://localhost:8080/"
        },
        "id": "m0v5wppvdFLS",
        "outputId": "dafc0f39-e5fe-4998-b8c9-59adb6728a5a"
      },
      "outputs": [
        {
          "output_type": "stream",
          "name": "stdout",
          "text": [
            "Requirement already satisfied: pydantic in /usr/local/lib/python3.10/dist-packages (2.9.2)\n",
            "Requirement already satisfied: annotated-types>=0.6.0 in /usr/local/lib/python3.10/dist-packages (from pydantic) (0.7.0)\n",
            "Requirement already satisfied: pydantic-core==2.23.4 in /usr/local/lib/python3.10/dist-packages (from pydantic) (2.23.4)\n",
            "Requirement already satisfied: typing-extensions>=4.6.1 in /usr/local/lib/python3.10/dist-packages (from pydantic) (4.12.2)\n",
            "Collecting pydantic-settings\n",
            "  Downloading pydantic_settings-2.6.0-py3-none-any.whl.metadata (3.5 kB)\n",
            "Requirement already satisfied: pydantic>=2.7.0 in /usr/local/lib/python3.10/dist-packages (from pydantic-settings) (2.9.2)\n",
            "Collecting python-dotenv>=0.21.0 (from pydantic-settings)\n",
            "  Downloading python_dotenv-1.0.1-py3-none-any.whl.metadata (23 kB)\n",
            "Requirement already satisfied: annotated-types>=0.6.0 in /usr/local/lib/python3.10/dist-packages (from pydantic>=2.7.0->pydantic-settings) (0.7.0)\n",
            "Requirement already satisfied: pydantic-core==2.23.4 in /usr/local/lib/python3.10/dist-packages (from pydantic>=2.7.0->pydantic-settings) (2.23.4)\n",
            "Requirement already satisfied: typing-extensions>=4.6.1 in /usr/local/lib/python3.10/dist-packages (from pydantic>=2.7.0->pydantic-settings) (4.12.2)\n",
            "Downloading pydantic_settings-2.6.0-py3-none-any.whl (28 kB)\n",
            "Downloading python_dotenv-1.0.1-py3-none-any.whl (19 kB)\n",
            "Installing collected packages: python-dotenv, pydantic-settings\n",
            "Successfully installed pydantic-settings-2.6.0 python-dotenv-1.0.1\n",
            "Requirement already satisfied: python-dotenv in /usr/local/lib/python3.10/dist-packages (1.0.1)\n"
          ]
        }
      ],
      "source": [
        "# Installed pydantic, pydantic_settings, python-dotenv\n",
        "!pip install pydantic\n",
        "!pip install pydantic-settings\n",
        "!pip install python-dotenv"
      ]
    },
    {
      "cell_type": "code",
      "source": [
        "import pandas as pd\n",
        "import requests\n",
        "\n",
        "import argparse\n",
        "\n",
        "from sqlalchemy import create_engine\n",
        "from time import time\n",
        "from dotenv import load_dotenv\n",
        "import os"
      ],
      "metadata": {
        "id": "sRhfPrZGdHJ-"
      },
      "execution_count": 3,
      "outputs": []
    },
    {
      "cell_type": "code",
      "source": [
        "from dotenv import load_dotenv\n",
        "import os\n",
        "\n",
        "# Attempt to load environment variables from .env file\n",
        "try:\n",
        "    load_dotenv(\"C:/Users/lenovo/myenv.env\")\n",
        "    print(\"Environment variables loaded successfully.\")\n",
        "except Exception as e:\n",
        "    print(\"Error loading environment variables:\", e)\n",
        "\n",
        "# Access environment variables and print them for debugging\n",
        "print(\"Alpha API Key:\", os.getenv(\"ALPHA_API_KEY\"))\n",
        "print(\"DB Name:\", os.getenv(\"DB_NAME\"))\n",
        "print(\"Model Directory:\", os.getenv(\"MODEL_DIRECTORY\"))"
      ],
      "metadata": {
        "colab": {
          "base_uri": "https://localhost:8080/"
        },
        "id": "aktxcUwFdLuG",
        "outputId": "b3c3aff2-058d-499a-e662-f1afd1c2838f"
      },
      "execution_count": 4,
      "outputs": [
        {
          "output_type": "stream",
          "name": "stdout",
          "text": [
            "Environment variables loaded successfully.\n",
            "Alpha API Key: None\n",
            "DB Name: None\n",
            "Model Directory: None\n"
          ]
        }
      ]
    },
    {
      "cell_type": "code",
      "source": [
        "# Import settings\n",
        "from config import settings"
      ],
      "metadata": {
        "id": "_7kufjsXfbzs"
      },
      "execution_count": null,
      "outputs": []
    },
    {
      "cell_type": "code",
      "source": [
        "user = \"postgres\"\n",
        "password = \"root\"\n",
        "host = \"localhost\"\n",
        "database = \"dsprojects\"\n",
        "port = \"5432\""
      ],
      "metadata": {
        "id": "Qzn1ymlMefo7"
      },
      "execution_count": null,
      "outputs": []
    },
    {
      "cell_type": "code",
      "source": [
        "engine = create_engine(f'postgresql://{user}:{password}@{host}:{port}/{database}')\n",
        "engine.connect()"
      ],
      "metadata": {
        "id": "3XCwLbkQeitB"
      },
      "execution_count": null,
      "outputs": []
    },
    {
      "cell_type": "code",
      "source": [
        "ticker ='SHEL'\n",
        "output_size='compact'\n",
        "table_name = ticker\n",
        "\n",
        "\n",
        "url = (\n",
        "        \"https://learn-api.wqu.edu/1/data-services/alpha-vantage/query?\"\n",
        "        \"function=TIME_SERIES_DAILY&\"\n",
        "        f\"symbol={ticker}&\"\n",
        "        f\"outputsize={output_size}&\"\n",
        "        f\"datatype=json&\"\n",
        "        f\"apikey={settings.alpha_api_key}\"\n",
        "        )\n",
        "\n",
        "print(url)"
      ],
      "metadata": {
        "id": "CwzoN5NDeuJS"
      },
      "execution_count": null,
      "outputs": []
    },
    {
      "cell_type": "code",
      "source": [
        "response = requests.get(url=url)\n",
        "print(\"response code:\" response.status_code)\n",
        "shell_stock_data = response.json['Time Series (Daily)']"
      ],
      "metadata": {
        "id": "gqCRgoCSeSev"
      },
      "execution_count": null,
      "outputs": []
    },
    {
      "cell_type": "code",
      "source": [
        "def get_daily(ticker, output_size='full'):\n",
        "\n",
        "    \"\"\"Get daily time series of an equity from AlphaVantage API.\n",
        "\n",
        "    Parameters\n",
        "    ----------\n",
        "    ticker : str\n",
        "        The ticker symbol of the equity.\n",
        "    output_size : str, optional\n",
        "        Number of observations to retrieve. \"compact\" returns the\n",
        "        latest 100 observations. \"full\" returns all observations for\n",
        "        equity. By default \"full\".\n",
        "\n",
        "    Returns\n",
        "    -------\n",
        "    pd.DataFrame\n",
        "        Columns are 'open', 'high', 'low', 'close', and 'volume'.\n",
        "        All are numeric.\n",
        "    \"\"\"\n",
        "    # Create URL (8.1.5)\n",
        "    url = (\n",
        "        \"https://learn-api.wqu.edu/1/data-services/alpha-vantage/query?\"\n",
        "        \"function=TIME_SERIES_DAILY&\"\n",
        "        f\"symbol={ticker}&\"\n",
        "        f\"outputsize={output_size}&\"\n",
        "        f\"datatype=json&\"\n",
        "        f\"apikey={settings.alpha_api_key}\"\n",
        "        )\n",
        "\n",
        "\n",
        "    # Send request to API (8.1.6)\n",
        "    response = requests.get(url=url)\n",
        "\n",
        "    # Extract JSON data from response (8.1.10)\n",
        "    response_data = response.json()\n",
        "\n",
        "\n",
        "    # Read data into DataFrame (8.1.12 & 8.1.13)\n",
        "    stock_data = response_data['Time Series (Daily)']\n",
        "    df = pd.DataFrame.from_dict(stock_data, orient='index', dtype=float)\n",
        "\n",
        "\n",
        "    # Convert index to `DatetimeIndex` named \"date\" (8.1.14)\n",
        "    df.index = pd.to_datetime(df.index)\n",
        "    df.index.name = 'date'\n",
        "\n",
        "\n",
        "    # Remove numbering from columns (8.1.15)\n",
        "    df.columns = [c.split('. ')[1] for c in df.columns]\n",
        "\n",
        "    # Return DataFrame\n",
        "    return df"
      ],
      "metadata": {
        "id": "mQ_FiXPOeSiO"
      },
      "execution_count": null,
      "outputs": []
    },
    {
      "cell_type": "code",
      "source": [
        "def insert_table(table_name, records, if_exists='fail'):\n",
        "\n",
        "    \"\"\"Insert DataFrame into PostgreSQL database as table\n",
        "\n",
        "    Parameters\n",
        "    ----------\n",
        "    table_name : str\n",
        "    records : pd.DataFrame\n",
        "    if_exists : str, optional\n",
        "        How to behave if the table already exists.\n",
        "\n",
        "        - 'fail': Raise a ValueError.\n",
        "        - 'replace': Drop the table before inserting new values.\n",
        "        - 'append': Insert new values to the existing table.\n",
        "\n",
        "        Dafault: 'fail'\n",
        "\n",
        "    Returns\n",
        "    -------\n",
        "    dict\n",
        "        Dictionary has two keys:\n",
        "\n",
        "        - 'transaction_successful', followed by bool\n",
        "        - 'records_inserted', followed by int\n",
        "    \"\"\"\n",
        "\n",
        "    n_inserted = records.to_sql(name=table_name, con=engine, if_exists=if_exists)\n",
        "\n",
        "    return {\n",
        "            'transaction_successful': True,\n",
        "            'records_inserted': n_inserted\n",
        "        }"
      ],
      "metadata": {
        "id": "J-UpiEShe8Pz"
      },
      "execution_count": null,
      "outputs": []
    },
    {
      "cell_type": "code",
      "source": [],
      "metadata": {
        "id": "Jm_nT6xJdLwP"
      },
      "execution_count": null,
      "outputs": []
    },
    {
      "cell_type": "code",
      "source": [],
      "metadata": {
        "id": "uTy05PgkdMp3"
      },
      "execution_count": null,
      "outputs": []
    }
  ]
}